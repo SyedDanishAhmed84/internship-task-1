{
  "nbformat": 4,
  "nbformat_minor": 0,
  "metadata": {
    "colab": {
      "provenance": [],
      "authorship_tag": "ABX9TyN19Z/np/NbYosc6cRYmzOJ",
      "include_colab_link": true
    },
    "kernelspec": {
      "name": "python3",
      "display_name": "Python 3"
    },
    "language_info": {
      "name": "python"
    }
  },
  "cells": [
    {
      "cell_type": "markdown",
      "metadata": {
        "id": "view-in-github",
        "colab_type": "text"
      },
      "source": [
        "<a href=\"https://colab.research.google.com/github/SyedDanishAhmed84/internship-tasks/blob/main/Task_2.ipynb\" target=\"_parent\"><img src=\"https://colab.research.google.com/assets/colab-badge.svg\" alt=\"Open In Colab\"/></a>"
      ]
    },
    {
      "cell_type": "code",
      "execution_count": 3,
      "metadata": {
        "id": "-34hXd-7jabW"
      },
      "outputs": [],
      "source": [
        "import pandas as pd\n",
        "import numpy as np\n",
        "import seaborn as sns\n",
        "import matplotlib.pyplot as plt"
      ]
    },
    {
      "cell_type": "code",
      "source": [
        "data={\n",
        "    'Name':['Cristiano Ronaldo','Lionel Messi','Neymar JR','Bale','Mbappe','Haaland','Saka','Lewandowski','Vinicius','Yamal','Pedri','Gavi'],\n",
        "    'Age':[40,37,33,'Thirty',26,24,None,36,25,17,24,20],\n",
        "    'Games Played':[50,40,None,40,30,40,45,20,'Fifty',25,29,'Nineteen'],\n",
        "    'Goals':['Forty',34,None,35,29,19,19,'Ten',None,10,None,9]\n",
        "}\n",
        "df=pd.DataFrame(data)\n",
        "# print(df.describe())\n",
        "print(df)\n",
        "\n",
        "word_to_num={\n",
        "    'Thirty':30,\n",
        "    'Nineteen':19,\n",
        "    'Fifty':50,\n",
        "    'Ten':10,\n",
        "    'Forty':40\n",
        "\n",
        "}"
      ],
      "metadata": {
        "colab": {
          "base_uri": "https://localhost:8080/"
        },
        "id": "XG6DpBkJjtei",
        "outputId": "dd5d02e6-4a84-45b2-e813-f7f0bd24522a"
      },
      "execution_count": 4,
      "outputs": [
        {
          "output_type": "stream",
          "name": "stdout",
          "text": [
            "                 Name     Age Games Played  Goals\n",
            "0   Cristiano Ronaldo      40           50  Forty\n",
            "1        Lionel Messi      37           40     34\n",
            "2           Neymar JR      33         None   None\n",
            "3                Bale  Thirty           40     35\n",
            "4              Mbappe      26           30     29\n",
            "5             Haaland      24           40     19\n",
            "6                Saka    None           45     19\n",
            "7         Lewandowski      36           20    Ten\n",
            "8            Vinicius      25        Fifty   None\n",
            "9               Yamal      17           25     10\n",
            "10              Pedri      24           29   None\n",
            "11               Gavi      20     Nineteen      9\n"
          ]
        }
      ]
    },
    {
      "cell_type": "code",
      "source": [
        "df['Age'] = df['Age'].replace(word_to_num)\n",
        "df['Age'] = df['Age'].infer_objects(copy=False)\n",
        "\n",
        "df['Games Played'] = df['Games Played'].replace(word_to_num)\n",
        "df['Games Played'] = df['Games Played'].infer_objects(copy=False)\n",
        "\n",
        "df['Goals'] = df['Goals'].replace(word_to_num)\n",
        "df['Goals'] = df['Goals'].infer_objects(copy=False)\n",
        "print(df)"
      ],
      "metadata": {
        "colab": {
          "base_uri": "https://localhost:8080/"
        },
        "id": "K7Wc05VvnhKC",
        "outputId": "5682475e-c3a2-42c4-bcf7-a0209bbc0f1e"
      },
      "execution_count": 7,
      "outputs": [
        {
          "output_type": "stream",
          "name": "stdout",
          "text": [
            "                 Name   Age  Games Played  Goals\n",
            "0   Cristiano Ronaldo  40.0          50.0   40.0\n",
            "1        Lionel Messi  37.0          40.0   34.0\n",
            "2           Neymar JR  33.0           NaN    NaN\n",
            "3                Bale  30.0          40.0   35.0\n",
            "4              Mbappe  26.0          30.0   29.0\n",
            "5             Haaland  24.0          40.0   19.0\n",
            "6                Saka   NaN          45.0   19.0\n",
            "7         Lewandowski  36.0          20.0   10.0\n",
            "8            Vinicius  25.0          50.0    NaN\n",
            "9               Yamal  17.0          25.0   10.0\n",
            "10              Pedri  24.0          29.0    NaN\n",
            "11               Gavi  20.0          19.0    9.0\n"
          ]
        }
      ]
    },
    {
      "cell_type": "code",
      "source": [
        "print(df.isnull())\n",
        "print(df.isnull().sum())"
      ],
      "metadata": {
        "colab": {
          "base_uri": "https://localhost:8080/"
        },
        "id": "G4YKxeeY_L4q",
        "outputId": "9315cfa8-a01b-4716-e19b-20acae66b570"
      },
      "execution_count": 8,
      "outputs": [
        {
          "output_type": "stream",
          "name": "stdout",
          "text": [
            "     Name    Age  Games Played  Goals\n",
            "0   False  False         False  False\n",
            "1   False  False         False  False\n",
            "2   False  False          True   True\n",
            "3   False  False         False  False\n",
            "4   False  False         False  False\n",
            "5   False  False         False  False\n",
            "6   False   True         False  False\n",
            "7   False  False         False  False\n",
            "8   False  False         False   True\n",
            "9   False  False         False  False\n",
            "10  False  False         False   True\n",
            "11  False  False         False  False\n",
            "Name            0\n",
            "Age             1\n",
            "Games Played    1\n",
            "Goals           3\n",
            "dtype: int64\n"
          ]
        }
      ]
    },
    {
      "cell_type": "code",
      "source": [
        "print(\"Players are aged in 30s\")\n",
        "print(df[df['Age']>30])\n",
        "\n",
        "sns.heatmap(df.isnull(), cbar=False, cmap='Reds')\n",
        "plt.title(\"Missing Values Heatmap\")\n",
        "plt.show()"
      ],
      "metadata": {
        "colab": {
          "base_uri": "https://localhost:8080/",
          "height": 556
        },
        "id": "ZmNAvG0OMTOC",
        "outputId": "d58057cc-4fb6-42e0-8b1b-619301c90d33"
      },
      "execution_count": 9,
      "outputs": [
        {
          "output_type": "stream",
          "name": "stdout",
          "text": [
            "Players are aged in 30s\n",
            "                Name   Age  Games Played  Goals\n",
            "0  Cristiano Ronaldo  40.0          50.0   40.0\n",
            "1       Lionel Messi  37.0          40.0   34.0\n",
            "2          Neymar JR  33.0           NaN    NaN\n",
            "7        Lewandowski  36.0          20.0   10.0\n"
          ]
        },
        {
          "output_type": "display_data",
          "data": {
            "text/plain": [
              "<Figure size 640x480 with 1 Axes>"
            ],
            "image/png": "[encoded data removed]"
          },
          "metadata": {}
        }
      ]
    },
    {
      "cell_type": "code",
      "source": [
        "print(df.describe())\n"
      ],
      "metadata": {
        "colab": {
          "base_uri": "https://localhost:8080/"
        },
        "id": "1WrTkcmG1Hxk",
        "outputId": "7c57db9d-1676-4ae2-fa35-247a49950a4e"
      },
      "execution_count": 10,
      "outputs": [
        {
          "output_type": "stream",
          "name": "stdout",
          "text": [
            "             Age  Games Played      Goals\n",
            "count  11.000000     11.000000   9.000000\n",
            "mean   28.363636     35.272727  22.777778\n",
            "std     7.392871     11.252474  12.018504\n",
            "min    17.000000     19.000000   9.000000\n",
            "25%    24.000000     27.000000  10.000000\n",
            "50%    26.000000     40.000000  19.000000\n",
            "75%    34.500000     42.500000  34.000000\n",
            "max    40.000000     50.000000  40.000000\n"
          ]
        }
      ]
    },
    {
      "cell_type": "code",
      "source": [
        "top_scorers=df.sort_values(by='Goals',ascending=False)\n",
        "print(\"Player with most Goals\")\n",
        "print(top_scorers[['Name','Goals']].to_string(index=False))"
      ],
      "metadata": {
        "colab": {
          "base_uri": "https://localhost:8080/"
        },
        "id": "D-HQGLQaCAAN",
        "outputId": "12b02aaf-3adc-43d0-93d8-7dae4a63e420"
      },
      "execution_count": 11,
      "outputs": [
        {
          "output_type": "stream",
          "name": "stdout",
          "text": [
            "Player with most Goals\n",
            "             Name  Goals\n",
            "Cristiano Ronaldo   40.0\n",
            "             Bale   35.0\n",
            "     Lionel Messi   34.0\n",
            "           Mbappe   29.0\n",
            "          Haaland   19.0\n",
            "             Saka   19.0\n",
            "      Lewandowski   10.0\n",
            "            Yamal   10.0\n",
            "             Gavi    9.0\n",
            "        Neymar JR    NaN\n",
            "         Vinicius    NaN\n",
            "            Pedri    NaN\n"
          ]
        }
      ]
    },
    {
      "cell_type": "code",
      "source": [
        "most_matches=df.sort_values(by='Games Played',ascending=False)\n",
        "print(\"Player with most Games\")\n",
        "print(most_matches[['Name','Games Played']].to_string(index=False))"
      ],
      "metadata": {
        "colab": {
          "base_uri": "https://localhost:8080/"
        },
        "id": "1f3RvkMXCrub",
        "outputId": "ba1f49d2-dcda-4b76-9dd4-c6859345d2e4"
      },
      "execution_count": 12,
      "outputs": [
        {
          "output_type": "stream",
          "name": "stdout",
          "text": [
            "Player with most Games\n",
            "             Name  Games Played\n",
            "Cristiano Ronaldo          50.0\n",
            "         Vinicius          50.0\n",
            "             Saka          45.0\n",
            "             Bale          40.0\n",
            "     Lionel Messi          40.0\n",
            "          Haaland          40.0\n",
            "           Mbappe          30.0\n",
            "            Pedri          29.0\n",
            "            Yamal          25.0\n",
            "      Lewandowski          20.0\n",
            "             Gavi          19.0\n",
            "        Neymar JR           NaN\n"
          ]
        }
      ]
    }
  ]
}